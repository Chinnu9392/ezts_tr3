{
 "cells": [
  {
   "cell_type": "code",
   "execution_count": 1,
   "id": "f173b0c6",
   "metadata": {},
   "outputs": [
    {
     "name": "stdout",
     "output_type": "stream",
     "text": [
      "1\n",
      "2\n",
      "3\n",
      "4\n"
     ]
    }
   ],
   "source": [
    "def pn(n,i=1):\n",
    "    if i>n:\n",
    "        return\n",
    "    print(i)\n",
    "    pn(n,i+1)\n",
    "pn(4)"
   ]
  },
  {
   "cell_type": "code",
   "execution_count": 2,
   "id": "bc687b66",
   "metadata": {},
   "outputs": [
    {
     "name": "stdout",
     "output_type": "stream",
     "text": [
      "Hello 1\n",
      "World 1\n",
      "Hello 2\n",
      "World 2\n",
      "Hello 3\n",
      "World 3\n",
      "Hello 4\n",
      "World 4\n",
      "Hello 5\n",
      "World 5\n",
      "Hello 6\n",
      "World 6\n",
      "Hello 7\n",
      "World 7\n",
      "Base\n",
      "This 7\n",
      "Recursion 7\n",
      "This 6\n",
      "Recursion 6\n",
      "This 5\n",
      "Recursion 5\n",
      "This 4\n",
      "Recursion 4\n",
      "This 3\n",
      "Recursion 3\n",
      "This 2\n",
      "Recursion 2\n",
      "This 1\n",
      "Recursion 1\n"
     ]
    }
   ],
   "source": [
    "def pt(i,n):\n",
    "    if i>=n:\n",
    "        print(\"Base\")\n",
    "        return\n",
    "    print(\"Hello\",i)\n",
    "    print(\"World\",i)\n",
    "    pt(i+1,n)\n",
    "    print(\"This\",i)\n",
    "    print(\"Recursion\",i)\n",
    "pt(1,8)"
   ]
  },
  {
   "cell_type": "code",
   "execution_count": 3,
   "id": "e18434cc",
   "metadata": {},
   "outputs": [
    {
     "name": "stdout",
     "output_type": "stream",
     "text": [
      "Ending 1\n",
      "Ending 2\n",
      "1\n",
      "Ending 3\n",
      "1\n",
      "2\n",
      "Ending 4\n",
      "1\n",
      "2\n",
      "3\n",
      "Ending 5\n",
      "1\n",
      "2\n",
      "3\n",
      "4\n",
      "Ending 6\n",
      "1\n",
      "2\n",
      "3\n",
      "4\n",
      "5\n",
      "Ending 7\n",
      "1\n",
      "2\n",
      "3\n",
      "4\n",
      "5\n",
      "6\n",
      "base\n",
      "Stratingline 7\n",
      "Stratingline 6\n",
      "Stratingline 5\n",
      "Stratingline 4\n",
      "Stratingline 3\n",
      "Stratingline 2\n",
      "Stratingline 1\n"
     ]
    }
   ],
   "source": [
    "def pt(i,n):\n",
    "    if i>=n:\n",
    "        print(\"base\")\n",
    "        return\n",
    "    print(\"Ending\",i)\n",
    "    for j in range(1,i):\n",
    "        print(j)\n",
    "    pt(i+1,n)\n",
    "    print(\"Stratingline\",i)\n",
    "pt(1,8)"
   ]
  },
  {
   "cell_type": "code",
   "execution_count": 4,
   "id": "796a6f7d",
   "metadata": {},
   "outputs": [
    {
     "name": "stdout",
     "output_type": "stream",
     "text": [
      "Leave Here 11\n",
      "Even pos 11\n",
      "Leave Here 10\n",
      "Odd pos: 10\n",
      "Leave Here 9\n",
      "Even pos 9\n",
      "Leave Here 8\n",
      "Odd pos: 8\n",
      "Leave Here 7\n",
      "Even pos 7\n",
      "Leave Here 6\n",
      "Odd pos: 6\n",
      "Leave Here 5\n",
      "Even pos 5\n",
      "Leave Here 4\n",
      "Odd pos: 4\n",
      "Leave Here 3\n",
      "Even pos 3\n",
      "Leave Here 2\n",
      "Odd pos: 2\n",
      "Leave Here 1\n",
      "Even pos 1\n",
      "Leave Here 0\n",
      "Base\n",
      "1\n",
      "0\n",
      "entering here 1\n",
      "2\n",
      "1\n",
      "0\n",
      "entering here 2\n",
      "3\n",
      "2\n",
      "1\n",
      "0\n",
      "entering here 3\n",
      "4\n",
      "3\n",
      "2\n",
      "1\n",
      "0\n",
      "entering here 4\n",
      "5\n",
      "4\n",
      "3\n",
      "2\n",
      "1\n",
      "0\n",
      "entering here 5\n",
      "6\n",
      "5\n",
      "4\n",
      "3\n",
      "2\n",
      "1\n",
      "0\n",
      "entering here 6\n",
      "7\n",
      "6\n",
      "5\n",
      "4\n",
      "3\n",
      "2\n",
      "1\n",
      "0\n",
      "entering here 7\n",
      "8\n",
      "7\n",
      "6\n",
      "5\n",
      "4\n",
      "3\n",
      "2\n",
      "1\n",
      "0\n",
      "entering here 8\n",
      "9\n",
      "8\n",
      "7\n",
      "6\n",
      "5\n",
      "4\n",
      "3\n",
      "2\n",
      "1\n",
      "0\n",
      "entering here 9\n",
      "10\n",
      "9\n",
      "8\n",
      "7\n",
      "6\n",
      "5\n",
      "4\n",
      "3\n",
      "2\n",
      "1\n",
      "0\n",
      "entering here 10\n",
      "11\n",
      "10\n",
      "9\n",
      "8\n",
      "7\n",
      "6\n",
      "5\n",
      "4\n",
      "3\n",
      "2\n",
      "1\n",
      "0\n",
      "entering here 11\n"
     ]
    }
   ],
   "source": [
    "def pt(p):\n",
    "    print(\"Leave Here\",p)\n",
    "    if p == 0:\n",
    "        print(\"Base\")\n",
    "        return\n",
    "    if p%2 == 1:\n",
    "        print(\"Even pos\",p)\n",
    "    else:\n",
    "        print(\"Odd pos:\",p)\n",
    "    pt(p-1)\n",
    "    for i in range(p,-1,-1):\n",
    "        print(i)\n",
    "    print(\"entering here\",p)\n",
    "pt(11)"
   ]
  },
  {
   "cell_type": "code",
   "execution_count": 5,
   "id": "6c7744ea",
   "metadata": {},
   "outputs": [
    {
     "name": "stdout",
     "output_type": "stream",
     "text": [
      "Sum is : 10\n",
      "10\n"
     ]
    }
   ],
   "source": [
    "#Recurssion\n",
    "def printsum(i,n,nums,res):\n",
    "    if i == n:\n",
    "        print(\"Sum is :\",res)\n",
    "        return\n",
    "    res = res+nums[i]\n",
    "    printsum(i+1,n,nums,res)\n",
    "#Back Tracking\n",
    "def newsum(i,n,nums):\n",
    "    if i == n:\n",
    "        return 0\n",
    "    k = newsum(i+1,n,nums)\n",
    "    return k + nums[i]\n",
    "printsum(0,4,[1,2,3,4],0)\n",
    "p = newsum(0,4,[1,2,3,4])\n",
    "print(p)"
   ]
  },
  {
   "cell_type": "code",
   "execution_count": 6,
   "id": "b93a57c8",
   "metadata": {},
   "outputs": [
    {
     "name": "stdout",
     "output_type": "stream",
     "text": [
      "4\n",
      "10\n"
     ]
    }
   ],
   "source": [
    "def ssum(n,res):\n",
    "    if n == 0:\n",
    "        return res\n",
    "    res = res+n\n",
    "    return ssum(n-1,res)\n",
    "\n",
    "n = int(input())\n",
    "k = ssum(n,0)\n",
    "print(k)"
   ]
  },
  {
   "cell_type": "code",
   "execution_count": 8,
   "id": "31dbeb49",
   "metadata": {},
   "outputs": [
    {
     "name": "stdout",
     "output_type": "stream",
     "text": [
      "4\n",
      "5\n"
     ]
    }
   ],
   "source": [
    "def maxnum(i,n,nums,m):\n",
    "    if i == n:\n",
    "        print(m)\n",
    "        return \n",
    "    if nums[i]>m:\n",
    "        m = nums[i]\n",
    "    maxnum(i+1,n,nums,m)\n",
    "    \n",
    "def maxnum2(i,n,nums):\n",
    "    if i == n - 1:\n",
    "        return nums[n-1]\n",
    "    c = maxnum2(i+1,n,nums)\n",
    "    if c < nums[i]:\n",
    "        return nums[i]\n",
    "    return c\n",
    "\n",
    "p = maxnum2(0,4,[1,2,3,4])\n",
    "print(p)\n",
    "maxnum(0,5,[1,5,4,2,3],0)"
   ]
  },
  {
   "cell_type": "code",
   "execution_count": 9,
   "id": "97addcde",
   "metadata": {},
   "outputs": [
    {
     "name": "stdout",
     "output_type": "stream",
     "text": [
      "1\n",
      "1\n"
     ]
    }
   ],
   "source": [
    "def maxnum(i,n,nums,m):\n",
    "    if i == n-1:\n",
    "        print(m)\n",
    "        return \n",
    "    if nums[i]<m:\n",
    "        m = nums[i]\n",
    "    maxnum(i+1,n,nums,m)\n",
    "def maxnum2(i,n,nums):\n",
    "    if i == n - 1:\n",
    "        return nums[n-1]\n",
    "    c = maxnum2(i+1,n,nums)\n",
    "    if c > nums[i]:\n",
    "        return nums[i]\n",
    "    return c\n",
    "p = maxnum2(0,4,[1,2,3,4])\n",
    "print(p)\n",
    "maxnum(0,5,[1,5,4,2,3],min([1,5,4,2,3]))"
   ]
  },
  {
   "cell_type": "code",
   "execution_count": 10,
   "id": "0949bdbf",
   "metadata": {},
   "outputs": [
    {
     "name": "stdout",
     "output_type": "stream",
     "text": [
      "2\n",
      "no of vowels 2\n"
     ]
    }
   ],
   "source": [
    "def vowel(i,n,word,res):\n",
    "    if i == n:\n",
    "        print(\"no of vowels\",res)\n",
    "        return\n",
    "    k  = \"aeiouAEIOU\"\n",
    "    if word[i] in k:\n",
    "        res = res + 1\n",
    "    vowel(i+1,n,word,res)\n",
    "def bvowel(i,n,word):\n",
    "    if i == n:\n",
    "        return 0\n",
    "    nvc = bvowel(i+1,n,word)\n",
    "    k = \"aeiouAEIOU\"\n",
    "    if word[i] in k:\n",
    "        nvc += 1\n",
    "    return nvc\n",
    "p = bvowel(0,7,\"Prudhvi\")\n",
    "print(p)\n",
    "vowel(0,7,\"Prudhvi\",0)"
   ]
  },
  {
   "cell_type": "code",
   "execution_count": 11,
   "id": "d43f21c2",
   "metadata": {},
   "outputs": [
    {
     "name": "stdout",
     "output_type": "stream",
     "text": [
      "1111\n",
      "1110\n",
      "1101\n",
      "1100\n",
      "1011\n",
      "1010\n",
      "1001\n",
      "1000\n",
      "0111\n",
      "0110\n",
      "0101\n",
      "0100\n",
      "0011\n",
      "0010\n",
      "0001\n",
      "0000\n"
     ]
    }
   ],
   "source": [
    "def printBinary(size,result,n):\n",
    "    if size == n:\n",
    "        print(result)\n",
    "        return\n",
    "    printBinary(size+1,result+\"1\",n)\n",
    "    printBinary(size+1,result+\"0\",n)\n",
    "\n",
    "n = 4\n",
    "printBinary(0,\"\",n)"
   ]
  },
  {
   "cell_type": "code",
   "execution_count": null,
   "id": "c52662a2",
   "metadata": {},
   "outputs": [],
   "source": []
  }
 ],
 "metadata": {
  "kernelspec": {
   "display_name": "Python 3 (ipykernel)",
   "language": "python",
   "name": "python3"
  },
  "language_info": {
   "codemirror_mode": {
    "name": "ipython",
    "version": 3
   },
   "file_extension": ".py",
   "mimetype": "text/x-python",
   "name": "python",
   "nbconvert_exporter": "python",
   "pygments_lexer": "ipython3",
   "version": "3.11.0"
  }
 },
 "nbformat": 4,
 "nbformat_minor": 5
}
